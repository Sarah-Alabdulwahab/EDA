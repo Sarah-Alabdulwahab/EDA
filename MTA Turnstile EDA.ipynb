{
 "cells": [
  {
   "cell_type": "markdown",
   "metadata": {},
   "source": [
    "# The MTA Turnstile EDA\n",
    "### By Sarah Alabdulwahab\n",
    "\n",
    "## Table of Contents\n",
    "<ul>\n",
    "<li><a href=\"#intro\">Introduction</a></li>\n",
    "<li><a href=\"#wrangling\">Data Wrangling</a></li>\n",
    "<li><a href=\"#eda\">Exploratory Data Analysis</a></li>\n",
    "<li><a href=\"#conclusions\">Conclusions</a></li>\n",
    "</ul>"
   ]
  },
  {
   "cell_type": "markdown",
   "metadata": {},
   "source": [
    "<a id='intro'></a>\n",
    "## Introduction\n",
    "The Metropolitan Transportation Authority (MTA) is North America's largest transportation network, covering a 5,000-square-mile travel area surrounding New York City through Long Island, southeastern New York State, and Connecticut.\n",
    "\n",
    "\n",
    "The MTA is planning on adding more turnstiles to reduce the crowds of people in the busiest stations, therefore, my goal would be to find the best place to add them.\n",
    "\n",
    "\n",
    "For this project, I chose to gather the data of the past four months to find the busiest station."
   ]
  },
  {
   "cell_type": "code",
   "execution_count": 1,
   "metadata": {},
   "outputs": [],
   "source": [
    "import pandas as pd\n",
    "import numpy as np\n",
    "import datetime\n",
    "import seaborn as sns\n",
    "import matplotlib.pyplot as plt\n",
    "%matplotlib inline"
   ]
  },
  {
   "cell_type": "markdown",
   "metadata": {},
   "source": [
    "<a id='wrangling'></a>\n",
    "## Data Wrangling"
   ]
  },
  {
   "cell_type": "markdown",
   "metadata": {},
   "source": [
    "The purpose of this section is to familarize myself with the dataset."
   ]
  },
  {
   "cell_type": "code",
   "execution_count": 2,
   "metadata": {},
   "outputs": [],
   "source": [
    "#collecting the data\n",
    "def get_data(dates):\n",
    "    url = \"http://web.mta.info/developers/data/nyct/turnstile/turnstile_{}.txt\"\n",
    "    dfs = []\n",
    "    for date in dates:\n",
    "        file_url = url.format(date)\n",
    "        dfs.append(pd.read_csv(file_url))\n",
    "    return pd.concat(dfs)"
   ]
  },
  {
   "cell_type": "code",
   "execution_count": 3,
   "metadata": {},
   "outputs": [],
   "source": [
    "#the dates of (approx.) the past four months\n",
    "dates = [210605, 210612, 210619, 210626, \n",
    "         210703, 210710, 210717, 210724, \n",
    "         210731, 210807, 210814, 210821, \n",
    "         210828, 210904, 210911, 210918]\n",
    "\n",
    "turnstiles_df = get_data(dates)"
   ]
  },
  {
   "cell_type": "code",
   "execution_count": 4,
   "metadata": {},
   "outputs": [
    {
     "data": {
      "text/html": [
       "<div>\n",
       "<style scoped>\n",
       "    .dataframe tbody tr th:only-of-type {\n",
       "        vertical-align: middle;\n",
       "    }\n",
       "\n",
       "    .dataframe tbody tr th {\n",
       "        vertical-align: top;\n",
       "    }\n",
       "\n",
       "    .dataframe thead th {\n",
       "        text-align: right;\n",
       "    }\n",
       "</style>\n",
       "<table border=\"1\" class=\"dataframe\">\n",
       "  <thead>\n",
       "    <tr style=\"text-align: right;\">\n",
       "      <th></th>\n",
       "      <th>C/A</th>\n",
       "      <th>UNIT</th>\n",
       "      <th>SCP</th>\n",
       "      <th>STATION</th>\n",
       "      <th>LINENAME</th>\n",
       "      <th>DIVISION</th>\n",
       "      <th>DATE</th>\n",
       "      <th>TIME</th>\n",
       "      <th>DESC</th>\n",
       "      <th>ENTRIES</th>\n",
       "      <th>EXITS</th>\n",
       "    </tr>\n",
       "  </thead>\n",
       "  <tbody>\n",
       "    <tr>\n",
       "      <td>0</td>\n",
       "      <td>A002</td>\n",
       "      <td>R051</td>\n",
       "      <td>02-00-00</td>\n",
       "      <td>59 ST</td>\n",
       "      <td>NQR456W</td>\n",
       "      <td>BMT</td>\n",
       "      <td>05/29/2021</td>\n",
       "      <td>00:00:00</td>\n",
       "      <td>REGULAR</td>\n",
       "      <td>7578734</td>\n",
       "      <td>2590325</td>\n",
       "    </tr>\n",
       "    <tr>\n",
       "      <td>1</td>\n",
       "      <td>A002</td>\n",
       "      <td>R051</td>\n",
       "      <td>02-00-00</td>\n",
       "      <td>59 ST</td>\n",
       "      <td>NQR456W</td>\n",
       "      <td>BMT</td>\n",
       "      <td>05/29/2021</td>\n",
       "      <td>04:00:00</td>\n",
       "      <td>REGULAR</td>\n",
       "      <td>7578740</td>\n",
       "      <td>2590327</td>\n",
       "    </tr>\n",
       "    <tr>\n",
       "      <td>2</td>\n",
       "      <td>A002</td>\n",
       "      <td>R051</td>\n",
       "      <td>02-00-00</td>\n",
       "      <td>59 ST</td>\n",
       "      <td>NQR456W</td>\n",
       "      <td>BMT</td>\n",
       "      <td>05/29/2021</td>\n",
       "      <td>08:00:00</td>\n",
       "      <td>REGULAR</td>\n",
       "      <td>7578749</td>\n",
       "      <td>2590340</td>\n",
       "    </tr>\n",
       "    <tr>\n",
       "      <td>3</td>\n",
       "      <td>A002</td>\n",
       "      <td>R051</td>\n",
       "      <td>02-00-00</td>\n",
       "      <td>59 ST</td>\n",
       "      <td>NQR456W</td>\n",
       "      <td>BMT</td>\n",
       "      <td>05/29/2021</td>\n",
       "      <td>12:00:00</td>\n",
       "      <td>REGULAR</td>\n",
       "      <td>7578789</td>\n",
       "      <td>2590386</td>\n",
       "    </tr>\n",
       "    <tr>\n",
       "      <td>4</td>\n",
       "      <td>A002</td>\n",
       "      <td>R051</td>\n",
       "      <td>02-00-00</td>\n",
       "      <td>59 ST</td>\n",
       "      <td>NQR456W</td>\n",
       "      <td>BMT</td>\n",
       "      <td>05/29/2021</td>\n",
       "      <td>16:00:00</td>\n",
       "      <td>REGULAR</td>\n",
       "      <td>7578897</td>\n",
       "      <td>2590418</td>\n",
       "    </tr>\n",
       "  </tbody>\n",
       "</table>\n",
       "</div>"
      ],
      "text/plain": [
       "    C/A  UNIT       SCP STATION LINENAME DIVISION        DATE      TIME  \\\n",
       "0  A002  R051  02-00-00   59 ST  NQR456W      BMT  05/29/2021  00:00:00   \n",
       "1  A002  R051  02-00-00   59 ST  NQR456W      BMT  05/29/2021  04:00:00   \n",
       "2  A002  R051  02-00-00   59 ST  NQR456W      BMT  05/29/2021  08:00:00   \n",
       "3  A002  R051  02-00-00   59 ST  NQR456W      BMT  05/29/2021  12:00:00   \n",
       "4  A002  R051  02-00-00   59 ST  NQR456W      BMT  05/29/2021  16:00:00   \n",
       "\n",
       "      DESC  ENTRIES  \\\n",
       "0  REGULAR  7578734   \n",
       "1  REGULAR  7578740   \n",
       "2  REGULAR  7578749   \n",
       "3  REGULAR  7578789   \n",
       "4  REGULAR  7578897   \n",
       "\n",
       "   EXITS                                                                 \n",
       "0                                            2590325                     \n",
       "1                                            2590327                     \n",
       "2                                            2590340                     \n",
       "3                                            2590386                     \n",
       "4                                            2590418                     "
      ]
     },
     "execution_count": 4,
     "metadata": {},
     "output_type": "execute_result"
    }
   ],
   "source": [
    "turnstiles_df.head()"
   ]
  },
  {
   "cell_type": "code",
   "execution_count": 5,
   "metadata": {},
   "outputs": [
    {
     "data": {
      "text/plain": [
       "(3351726, 11)"
      ]
     },
     "execution_count": 5,
     "metadata": {},
     "output_type": "execute_result"
    }
   ],
   "source": [
    "#num of rows and columns\n",
    "turnstiles_df.shape"
   ]
  },
  {
   "cell_type": "code",
   "execution_count": 6,
   "metadata": {},
   "outputs": [
    {
     "data": {
      "text/html": [
       "<div>\n",
       "<style scoped>\n",
       "    .dataframe tbody tr th:only-of-type {\n",
       "        vertical-align: middle;\n",
       "    }\n",
       "\n",
       "    .dataframe tbody tr th {\n",
       "        vertical-align: top;\n",
       "    }\n",
       "\n",
       "    .dataframe thead th {\n",
       "        text-align: right;\n",
       "    }\n",
       "</style>\n",
       "<table border=\"1\" class=\"dataframe\">\n",
       "  <thead>\n",
       "    <tr style=\"text-align: right;\">\n",
       "      <th></th>\n",
       "      <th>ENTRIES</th>\n",
       "      <th>EXITS</th>\n",
       "    </tr>\n",
       "  </thead>\n",
       "  <tbody>\n",
       "    <tr>\n",
       "      <td>count</td>\n",
       "      <td>3.351726e+06</td>\n",
       "      <td>3.351726e+06</td>\n",
       "    </tr>\n",
       "    <tr>\n",
       "      <td>mean</td>\n",
       "      <td>4.159043e+07</td>\n",
       "      <td>3.325419e+07</td>\n",
       "    </tr>\n",
       "    <tr>\n",
       "      <td>std</td>\n",
       "      <td>2.183052e+08</td>\n",
       "      <td>1.918333e+08</td>\n",
       "    </tr>\n",
       "    <tr>\n",
       "      <td>min</td>\n",
       "      <td>0.000000e+00</td>\n",
       "      <td>0.000000e+00</td>\n",
       "    </tr>\n",
       "    <tr>\n",
       "      <td>25%</td>\n",
       "      <td>2.186650e+05</td>\n",
       "      <td>1.006620e+05</td>\n",
       "    </tr>\n",
       "    <tr>\n",
       "      <td>50%</td>\n",
       "      <td>1.402711e+06</td>\n",
       "      <td>8.538525e+05</td>\n",
       "    </tr>\n",
       "    <tr>\n",
       "      <td>75%</td>\n",
       "      <td>6.010322e+06</td>\n",
       "      <td>3.970752e+06</td>\n",
       "    </tr>\n",
       "    <tr>\n",
       "      <td>max</td>\n",
       "      <td>2.147417e+09</td>\n",
       "      <td>2.133797e+09</td>\n",
       "    </tr>\n",
       "  </tbody>\n",
       "</table>\n",
       "</div>"
      ],
      "text/plain": [
       "            ENTRIES  \\\n",
       "count  3.351726e+06   \n",
       "mean   4.159043e+07   \n",
       "std    2.183052e+08   \n",
       "min    0.000000e+00   \n",
       "25%    2.186650e+05   \n",
       "50%    1.402711e+06   \n",
       "75%    6.010322e+06   \n",
       "max    2.147417e+09   \n",
       "\n",
       "       EXITS                                                                 \n",
       "count                                       3.351726e+06                     \n",
       "mean                                        3.325419e+07                     \n",
       "std                                         1.918333e+08                     \n",
       "min                                         0.000000e+00                     \n",
       "25%                                         1.006620e+05                     \n",
       "50%                                         8.538525e+05                     \n",
       "75%                                         3.970752e+06                     \n",
       "max                                         2.133797e+09                     "
      ]
     },
     "execution_count": 6,
     "metadata": {},
     "output_type": "execute_result"
    }
   ],
   "source": [
    "#descriptive statistics\n",
    "turnstiles_df.describe()"
   ]
  },
  {
   "cell_type": "code",
   "execution_count": 7,
   "metadata": {},
   "outputs": [
    {
     "name": "stdout",
     "output_type": "stream",
     "text": [
      "<class 'pandas.core.frame.DataFrame'>\n",
      "Int64Index: 3351726 entries, 0 to 209897\n",
      "Data columns (total 11 columns):\n",
      "C/A                                                                     object\n",
      "UNIT                                                                    object\n",
      "SCP                                                                     object\n",
      "STATION                                                                 object\n",
      "LINENAME                                                                object\n",
      "DIVISION                                                                object\n",
      "DATE                                                                    object\n",
      "TIME                                                                    object\n",
      "DESC                                                                    object\n",
      "ENTRIES                                                                 int64\n",
      "EXITS                                                                   int64\n",
      "dtypes: int64(2), object(9)\n",
      "memory usage: 306.9+ MB\n"
     ]
    }
   ],
   "source": [
    "#summary of data\n",
    "turnstiles_df.info()"
   ]
  },
  {
   "cell_type": "code",
   "execution_count": 8,
   "metadata": {},
   "outputs": [
    {
     "data": {
      "text/plain": [
       "C/A                                                                     0\n",
       "UNIT                                                                    0\n",
       "SCP                                                                     0\n",
       "STATION                                                                 0\n",
       "LINENAME                                                                0\n",
       "DIVISION                                                                0\n",
       "DATE                                                                    0\n",
       "TIME                                                                    0\n",
       "DESC                                                                    0\n",
       "ENTRIES                                                                 0\n",
       "EXITS                                                                   0\n",
       "dtype: int64"
      ]
     },
     "execution_count": 8,
     "metadata": {},
     "output_type": "execute_result"
    }
   ],
   "source": [
    "#checking for null values\n",
    "turnstiles_df.isna().sum()"
   ]
  },
  {
   "cell_type": "code",
   "execution_count": 9,
   "metadata": {
    "scrolled": true
   },
   "outputs": [
    {
     "data": {
      "text/plain": [
       "Index(['C/A', 'UNIT', 'SCP', 'STATION', 'LINENAME', 'DIVISION', 'DATE', 'TIME',\n",
       "       'DESC', 'ENTRIES', 'EXITS'],\n",
       "      dtype='object')"
      ]
     },
     "execution_count": 9,
     "metadata": {},
     "output_type": "execute_result"
    }
   ],
   "source": [
    "#the column names -> without white spaces\n",
    "turnstiles_df.columns = turnstiles_df.columns.str.strip()\n",
    "turnstiles_df.columns"
   ]
  },
  {
   "cell_type": "code",
   "execution_count": 10,
   "metadata": {},
   "outputs": [
    {
     "data": {
      "text/plain": [
       "05/29/2021    29939\n",
       "05/30/2021    29812\n",
       "05/31/2021    29997\n",
       "06/01/2021    29889\n",
       "06/02/2021    29870\n",
       "              ...  \n",
       "09/13/2021    30103\n",
       "09/14/2021    30292\n",
       "09/15/2021    29833\n",
       "09/16/2021    29928\n",
       "09/17/2021    29884\n",
       "Name: DATE, Length: 112, dtype: int64"
      ]
     },
     "execution_count": 10,
     "metadata": {},
     "output_type": "execute_result"
    }
   ],
   "source": [
    "#four months of data\n",
    "turnstiles_df.DATE.value_counts().sort_index()"
   ]
  },
  {
   "cell_type": "markdown",
   "metadata": {},
   "source": [
    "### Data Cleaning & Feature Engineering"
   ]
  },
  {
   "cell_type": "code",
   "execution_count": 11,
   "metadata": {},
   "outputs": [],
   "source": [
    "#merge the date and time fields into a single datetime column\n",
    "turnstiles_df[\"DATE_TIME\"] = pd.to_datetime(turnstiles_df.DATE + \" \" + turnstiles_df.TIME, format=\"%m/%d/%Y %H:%M:%S\")"
   ]
  },
  {
   "cell_type": "code",
   "execution_count": 12,
   "metadata": {
    "colab": {},
    "colab_type": "code",
    "id": "vUMhPFNhG36X"
   },
   "outputs": [],
   "source": [
    "#drop DESC & DIVISION columns because i will not be needing them for my analysis\n",
    "turnstiles_df.drop([\"DESC\", 'DIVISION'], axis=1, inplace=True)"
   ]
  },
  {
   "cell_type": "code",
   "execution_count": 13,
   "metadata": {},
   "outputs": [
    {
     "data": {
      "text/plain": [
       "112"
      ]
     },
     "execution_count": 13,
     "metadata": {},
     "output_type": "execute_result"
    }
   ],
   "source": [
    "#looking for duplicated rows\n",
    "turnstiles_df[['C/A','UNIT', 'SCP', 'STATION', 'DATE_TIME']].duplicated().sum()"
   ]
  },
  {
   "cell_type": "code",
   "execution_count": 14,
   "metadata": {},
   "outputs": [],
   "source": [
    "#dropping duplicates\n",
    "turnstiles_df.drop_duplicates(subset=['C/A','UNIT', 'SCP', 'STATION', 'DATE_TIME'], inplace=True)"
   ]
  },
  {
   "cell_type": "code",
   "execution_count": 15,
   "metadata": {},
   "outputs": [],
   "source": [
    "#reset index after dropping\n",
    "turnstiles_df.reset_index(drop=True, inplace=True)"
   ]
  },
  {
   "cell_type": "code",
   "execution_count": 16,
   "metadata": {
    "scrolled": true
   },
   "outputs": [
    {
     "data": {
      "text/html": [
       "<div>\n",
       "<style scoped>\n",
       "    .dataframe tbody tr th:only-of-type {\n",
       "        vertical-align: middle;\n",
       "    }\n",
       "\n",
       "    .dataframe tbody tr th {\n",
       "        vertical-align: top;\n",
       "    }\n",
       "\n",
       "    .dataframe thead th {\n",
       "        text-align: right;\n",
       "    }\n",
       "</style>\n",
       "<table border=\"1\" class=\"dataframe\">\n",
       "  <thead>\n",
       "    <tr style=\"text-align: right;\">\n",
       "      <th></th>\n",
       "      <th>C/A</th>\n",
       "      <th>UNIT</th>\n",
       "      <th>SCP</th>\n",
       "      <th>STATION</th>\n",
       "      <th>LINENAME</th>\n",
       "      <th>DATE</th>\n",
       "      <th>TIME</th>\n",
       "      <th>ENTRIES</th>\n",
       "      <th>EXITS</th>\n",
       "      <th>DATE_TIME</th>\n",
       "    </tr>\n",
       "  </thead>\n",
       "  <tbody>\n",
       "    <tr>\n",
       "      <td>0</td>\n",
       "      <td>A002</td>\n",
       "      <td>R051</td>\n",
       "      <td>02-00-00</td>\n",
       "      <td>59 ST</td>\n",
       "      <td>NQR456W</td>\n",
       "      <td>05/29/2021</td>\n",
       "      <td>00:00:00</td>\n",
       "      <td>7578734</td>\n",
       "      <td>2590325</td>\n",
       "      <td>2021-05-29 00:00:00</td>\n",
       "    </tr>\n",
       "    <tr>\n",
       "      <td>1</td>\n",
       "      <td>A002</td>\n",
       "      <td>R051</td>\n",
       "      <td>02-00-00</td>\n",
       "      <td>59 ST</td>\n",
       "      <td>NQR456W</td>\n",
       "      <td>05/29/2021</td>\n",
       "      <td>04:00:00</td>\n",
       "      <td>7578740</td>\n",
       "      <td>2590327</td>\n",
       "      <td>2021-05-29 04:00:00</td>\n",
       "    </tr>\n",
       "    <tr>\n",
       "      <td>2</td>\n",
       "      <td>A002</td>\n",
       "      <td>R051</td>\n",
       "      <td>02-00-00</td>\n",
       "      <td>59 ST</td>\n",
       "      <td>NQR456W</td>\n",
       "      <td>05/29/2021</td>\n",
       "      <td>08:00:00</td>\n",
       "      <td>7578749</td>\n",
       "      <td>2590340</td>\n",
       "      <td>2021-05-29 08:00:00</td>\n",
       "    </tr>\n",
       "    <tr>\n",
       "      <td>3</td>\n",
       "      <td>A002</td>\n",
       "      <td>R051</td>\n",
       "      <td>02-00-00</td>\n",
       "      <td>59 ST</td>\n",
       "      <td>NQR456W</td>\n",
       "      <td>05/29/2021</td>\n",
       "      <td>12:00:00</td>\n",
       "      <td>7578789</td>\n",
       "      <td>2590386</td>\n",
       "      <td>2021-05-29 12:00:00</td>\n",
       "    </tr>\n",
       "    <tr>\n",
       "      <td>4</td>\n",
       "      <td>A002</td>\n",
       "      <td>R051</td>\n",
       "      <td>02-00-00</td>\n",
       "      <td>59 ST</td>\n",
       "      <td>NQR456W</td>\n",
       "      <td>05/29/2021</td>\n",
       "      <td>16:00:00</td>\n",
       "      <td>7578897</td>\n",
       "      <td>2590418</td>\n",
       "      <td>2021-05-29 16:00:00</td>\n",
       "    </tr>\n",
       "  </tbody>\n",
       "</table>\n",
       "</div>"
      ],
      "text/plain": [
       "    C/A  UNIT       SCP STATION LINENAME        DATE      TIME  ENTRIES  \\\n",
       "0  A002  R051  02-00-00   59 ST  NQR456W  05/29/2021  00:00:00  7578734   \n",
       "1  A002  R051  02-00-00   59 ST  NQR456W  05/29/2021  04:00:00  7578740   \n",
       "2  A002  R051  02-00-00   59 ST  NQR456W  05/29/2021  08:00:00  7578749   \n",
       "3  A002  R051  02-00-00   59 ST  NQR456W  05/29/2021  12:00:00  7578789   \n",
       "4  A002  R051  02-00-00   59 ST  NQR456W  05/29/2021  16:00:00  7578897   \n",
       "\n",
       "     EXITS           DATE_TIME  \n",
       "0  2590325 2021-05-29 00:00:00  \n",
       "1  2590327 2021-05-29 04:00:00  \n",
       "2  2590340 2021-05-29 08:00:00  \n",
       "3  2590386 2021-05-29 12:00:00  \n",
       "4  2590418 2021-05-29 16:00:00  "
      ]
     },
     "execution_count": 16,
     "metadata": {},
     "output_type": "execute_result"
    }
   ],
   "source": [
    "turnstiles_df.head()"
   ]
  },
  {
   "cell_type": "markdown",
   "metadata": {},
   "source": [
    "### Unique Turnstile\n",
    "Each turnstile is identified by the combination of C/A, Unit, SCP, and the station."
   ]
  },
  {
   "cell_type": "code",
   "execution_count": 17,
   "metadata": {},
   "outputs": [],
   "source": [
    "turnstiles_df['UNIQUE_TURNSTILE'] = (turnstiles_df[\"C/A\"] + turnstiles_df[\"UNIT\"] + \n",
    "                                     turnstiles_df[\"SCP\"] + turnstiles_df[\"STATION\"])"
   ]
  },
  {
   "cell_type": "code",
   "execution_count": 18,
   "metadata": {},
   "outputs": [
    {
     "data": {
      "text/html": [
       "<div>\n",
       "<style scoped>\n",
       "    .dataframe tbody tr th:only-of-type {\n",
       "        vertical-align: middle;\n",
       "    }\n",
       "\n",
       "    .dataframe tbody tr th {\n",
       "        vertical-align: top;\n",
       "    }\n",
       "\n",
       "    .dataframe thead th {\n",
       "        text-align: right;\n",
       "    }\n",
       "</style>\n",
       "<table border=\"1\" class=\"dataframe\">\n",
       "  <thead>\n",
       "    <tr style=\"text-align: right;\">\n",
       "      <th></th>\n",
       "      <th>C/A</th>\n",
       "      <th>UNIT</th>\n",
       "      <th>SCP</th>\n",
       "      <th>STATION</th>\n",
       "      <th>LINENAME</th>\n",
       "      <th>DATE</th>\n",
       "      <th>TIME</th>\n",
       "      <th>ENTRIES</th>\n",
       "      <th>EXITS</th>\n",
       "      <th>DATE_TIME</th>\n",
       "      <th>UNIQUE_TURNSTILE</th>\n",
       "    </tr>\n",
       "  </thead>\n",
       "  <tbody>\n",
       "    <tr>\n",
       "      <td>0</td>\n",
       "      <td>A002</td>\n",
       "      <td>R051</td>\n",
       "      <td>02-00-00</td>\n",
       "      <td>59 ST</td>\n",
       "      <td>NQR456W</td>\n",
       "      <td>05/29/2021</td>\n",
       "      <td>00:00:00</td>\n",
       "      <td>7578734</td>\n",
       "      <td>2590325</td>\n",
       "      <td>2021-05-29 00:00:00</td>\n",
       "      <td>A002R05102-00-0059 ST</td>\n",
       "    </tr>\n",
       "    <tr>\n",
       "      <td>1</td>\n",
       "      <td>A002</td>\n",
       "      <td>R051</td>\n",
       "      <td>02-00-00</td>\n",
       "      <td>59 ST</td>\n",
       "      <td>NQR456W</td>\n",
       "      <td>05/29/2021</td>\n",
       "      <td>04:00:00</td>\n",
       "      <td>7578740</td>\n",
       "      <td>2590327</td>\n",
       "      <td>2021-05-29 04:00:00</td>\n",
       "      <td>A002R05102-00-0059 ST</td>\n",
       "    </tr>\n",
       "    <tr>\n",
       "      <td>2</td>\n",
       "      <td>A002</td>\n",
       "      <td>R051</td>\n",
       "      <td>02-00-00</td>\n",
       "      <td>59 ST</td>\n",
       "      <td>NQR456W</td>\n",
       "      <td>05/29/2021</td>\n",
       "      <td>08:00:00</td>\n",
       "      <td>7578749</td>\n",
       "      <td>2590340</td>\n",
       "      <td>2021-05-29 08:00:00</td>\n",
       "      <td>A002R05102-00-0059 ST</td>\n",
       "    </tr>\n",
       "    <tr>\n",
       "      <td>3</td>\n",
       "      <td>A002</td>\n",
       "      <td>R051</td>\n",
       "      <td>02-00-00</td>\n",
       "      <td>59 ST</td>\n",
       "      <td>NQR456W</td>\n",
       "      <td>05/29/2021</td>\n",
       "      <td>12:00:00</td>\n",
       "      <td>7578789</td>\n",
       "      <td>2590386</td>\n",
       "      <td>2021-05-29 12:00:00</td>\n",
       "      <td>A002R05102-00-0059 ST</td>\n",
       "    </tr>\n",
       "    <tr>\n",
       "      <td>4</td>\n",
       "      <td>A002</td>\n",
       "      <td>R051</td>\n",
       "      <td>02-00-00</td>\n",
       "      <td>59 ST</td>\n",
       "      <td>NQR456W</td>\n",
       "      <td>05/29/2021</td>\n",
       "      <td>16:00:00</td>\n",
       "      <td>7578897</td>\n",
       "      <td>2590418</td>\n",
       "      <td>2021-05-29 16:00:00</td>\n",
       "      <td>A002R05102-00-0059 ST</td>\n",
       "    </tr>\n",
       "  </tbody>\n",
       "</table>\n",
       "</div>"
      ],
      "text/plain": [
       "    C/A  UNIT       SCP STATION LINENAME        DATE      TIME  ENTRIES  \\\n",
       "0  A002  R051  02-00-00   59 ST  NQR456W  05/29/2021  00:00:00  7578734   \n",
       "1  A002  R051  02-00-00   59 ST  NQR456W  05/29/2021  04:00:00  7578740   \n",
       "2  A002  R051  02-00-00   59 ST  NQR456W  05/29/2021  08:00:00  7578749   \n",
       "3  A002  R051  02-00-00   59 ST  NQR456W  05/29/2021  12:00:00  7578789   \n",
       "4  A002  R051  02-00-00   59 ST  NQR456W  05/29/2021  16:00:00  7578897   \n",
       "\n",
       "     EXITS           DATE_TIME       UNIQUE_TURNSTILE  \n",
       "0  2590325 2021-05-29 00:00:00  A002R05102-00-0059 ST  \n",
       "1  2590327 2021-05-29 04:00:00  A002R05102-00-0059 ST  \n",
       "2  2590340 2021-05-29 08:00:00  A002R05102-00-0059 ST  \n",
       "3  2590386 2021-05-29 12:00:00  A002R05102-00-0059 ST  \n",
       "4  2590418 2021-05-29 16:00:00  A002R05102-00-0059 ST  "
      ]
     },
     "execution_count": 18,
     "metadata": {},
     "output_type": "execute_result"
    }
   ],
   "source": [
    "turnstiles_df.head()"
   ]
  },
  {
   "cell_type": "markdown",
   "metadata": {},
   "source": [
    "### Daily Entries & Exits"
   ]
  },
  {
   "cell_type": "markdown",
   "metadata": {},
   "source": [
    "For each unique turnstile."
   ]
  },
  {
   "cell_type": "code",
   "execution_count": 19,
   "metadata": {
    "colab": {},
    "colab_type": "code",
    "id": "Y_3ZfAA0G36b"
   },
   "outputs": [],
   "source": [
    "#cummulative entries and exits\n",
    "turnstiles_daily = (turnstiles_df.groupby([\"C/A\", \"UNIT\", \"SCP\", \"STATION\", \"DATE\"],as_index=False)\n",
    "                    ['ENTRIES','EXITS'].max())"
   ]
  },
  {
   "cell_type": "code",
   "execution_count": 20,
   "metadata": {
    "colab": {},
    "colab_type": "code",
    "id": "dG_c1f06G36f",
    "outputId": "def7d2e7-4d07-48d8-fc27-b98309a861e0",
    "scrolled": false
   },
   "outputs": [
    {
     "data": {
      "text/html": [
       "<div>\n",
       "<style scoped>\n",
       "    .dataframe tbody tr th:only-of-type {\n",
       "        vertical-align: middle;\n",
       "    }\n",
       "\n",
       "    .dataframe tbody tr th {\n",
       "        vertical-align: top;\n",
       "    }\n",
       "\n",
       "    .dataframe thead th {\n",
       "        text-align: right;\n",
       "    }\n",
       "</style>\n",
       "<table border=\"1\" class=\"dataframe\">\n",
       "  <thead>\n",
       "    <tr style=\"text-align: right;\">\n",
       "      <th></th>\n",
       "      <th>C/A</th>\n",
       "      <th>UNIT</th>\n",
       "      <th>SCP</th>\n",
       "      <th>STATION</th>\n",
       "      <th>DATE</th>\n",
       "      <th>ENTRIES</th>\n",
       "      <th>EXITS</th>\n",
       "    </tr>\n",
       "  </thead>\n",
       "  <tbody>\n",
       "    <tr>\n",
       "      <td>0</td>\n",
       "      <td>A002</td>\n",
       "      <td>R051</td>\n",
       "      <td>02-00-00</td>\n",
       "      <td>59 ST</td>\n",
       "      <td>05/29/2021</td>\n",
       "      <td>7579021</td>\n",
       "      <td>2590439</td>\n",
       "    </tr>\n",
       "    <tr>\n",
       "      <td>1</td>\n",
       "      <td>A002</td>\n",
       "      <td>R051</td>\n",
       "      <td>02-00-00</td>\n",
       "      <td>59 ST</td>\n",
       "      <td>05/30/2021</td>\n",
       "      <td>7579275</td>\n",
       "      <td>2590548</td>\n",
       "    </tr>\n",
       "    <tr>\n",
       "      <td>2</td>\n",
       "      <td>A002</td>\n",
       "      <td>R051</td>\n",
       "      <td>02-00-00</td>\n",
       "      <td>59 ST</td>\n",
       "      <td>05/31/2021</td>\n",
       "      <td>7579593</td>\n",
       "      <td>2590641</td>\n",
       "    </tr>\n",
       "    <tr>\n",
       "      <td>3</td>\n",
       "      <td>A002</td>\n",
       "      <td>R051</td>\n",
       "      <td>02-00-00</td>\n",
       "      <td>59 ST</td>\n",
       "      <td>06/01/2021</td>\n",
       "      <td>7580178</td>\n",
       "      <td>2590917</td>\n",
       "    </tr>\n",
       "    <tr>\n",
       "      <td>4</td>\n",
       "      <td>A002</td>\n",
       "      <td>R051</td>\n",
       "      <td>02-00-00</td>\n",
       "      <td>59 ST</td>\n",
       "      <td>06/02/2021</td>\n",
       "      <td>7580754</td>\n",
       "      <td>2591200</td>\n",
       "    </tr>\n",
       "  </tbody>\n",
       "</table>\n",
       "</div>"
      ],
      "text/plain": [
       "    C/A  UNIT       SCP STATION        DATE  ENTRIES    EXITS\n",
       "0  A002  R051  02-00-00   59 ST  05/29/2021  7579021  2590439\n",
       "1  A002  R051  02-00-00   59 ST  05/30/2021  7579275  2590548\n",
       "2  A002  R051  02-00-00   59 ST  05/31/2021  7579593  2590641\n",
       "3  A002  R051  02-00-00   59 ST  06/01/2021  7580178  2590917\n",
       "4  A002  R051  02-00-00   59 ST  06/02/2021  7580754  2591200"
      ]
     },
     "execution_count": 20,
     "metadata": {},
     "output_type": "execute_result"
    }
   ],
   "source": [
    "turnstiles_daily.head()"
   ]
  },
  {
   "cell_type": "markdown",
   "metadata": {},
   "source": [
    "Adding Columns: `PREV_DATE`, `PREV_ENTRIES`, and `PREV_EXITS`."
   ]
  },
  {
   "cell_type": "code",
   "execution_count": 21,
   "metadata": {
    "colab": {},
    "colab_type": "code",
    "id": "cg8RtfZLG36j"
   },
   "outputs": [],
   "source": [
    "turnstiles_daily[[\"PREV_DATE\", \"PREV_ENTRIES\", \"PREV_EXITS\"]] = (turnstiles_daily\n",
    "                                                       .groupby([\"C/A\", \"UNIT\", \"SCP\", \"STATION\"])\n",
    "                                                                 [\"DATE\", \"ENTRIES\",\"EXITS\"]\n",
    "                                                       .apply(lambda grp: grp.shift(1)))"
   ]
  },
  {
   "cell_type": "code",
   "execution_count": 22,
   "metadata": {
    "colab": {},
    "colab_type": "code",
    "id": "HEzUNsNVG36n",
    "outputId": "acd0b8b4-6e30-445d-ffee-fbf704951223"
   },
   "outputs": [
    {
     "data": {
      "text/html": [
       "<div>\n",
       "<style scoped>\n",
       "    .dataframe tbody tr th:only-of-type {\n",
       "        vertical-align: middle;\n",
       "    }\n",
       "\n",
       "    .dataframe tbody tr th {\n",
       "        vertical-align: top;\n",
       "    }\n",
       "\n",
       "    .dataframe thead th {\n",
       "        text-align: right;\n",
       "    }\n",
       "</style>\n",
       "<table border=\"1\" class=\"dataframe\">\n",
       "  <thead>\n",
       "    <tr style=\"text-align: right;\">\n",
       "      <th></th>\n",
       "      <th>C/A</th>\n",
       "      <th>UNIT</th>\n",
       "      <th>SCP</th>\n",
       "      <th>STATION</th>\n",
       "      <th>DATE</th>\n",
       "      <th>ENTRIES</th>\n",
       "      <th>EXITS</th>\n",
       "      <th>PREV_DATE</th>\n",
       "      <th>PREV_ENTRIES</th>\n",
       "      <th>PREV_EXITS</th>\n",
       "    </tr>\n",
       "  </thead>\n",
       "  <tbody>\n",
       "    <tr>\n",
       "      <td>0</td>\n",
       "      <td>A002</td>\n",
       "      <td>R051</td>\n",
       "      <td>02-00-00</td>\n",
       "      <td>59 ST</td>\n",
       "      <td>05/29/2021</td>\n",
       "      <td>7579021</td>\n",
       "      <td>2590439</td>\n",
       "      <td>NaN</td>\n",
       "      <td>NaN</td>\n",
       "      <td>NaN</td>\n",
       "    </tr>\n",
       "    <tr>\n",
       "      <td>1</td>\n",
       "      <td>A002</td>\n",
       "      <td>R051</td>\n",
       "      <td>02-00-00</td>\n",
       "      <td>59 ST</td>\n",
       "      <td>05/30/2021</td>\n",
       "      <td>7579275</td>\n",
       "      <td>2590548</td>\n",
       "      <td>05/29/2021</td>\n",
       "      <td>7579021.0</td>\n",
       "      <td>2590439.0</td>\n",
       "    </tr>\n",
       "    <tr>\n",
       "      <td>2</td>\n",
       "      <td>A002</td>\n",
       "      <td>R051</td>\n",
       "      <td>02-00-00</td>\n",
       "      <td>59 ST</td>\n",
       "      <td>05/31/2021</td>\n",
       "      <td>7579593</td>\n",
       "      <td>2590641</td>\n",
       "      <td>05/30/2021</td>\n",
       "      <td>7579275.0</td>\n",
       "      <td>2590548.0</td>\n",
       "    </tr>\n",
       "    <tr>\n",
       "      <td>3</td>\n",
       "      <td>A002</td>\n",
       "      <td>R051</td>\n",
       "      <td>02-00-00</td>\n",
       "      <td>59 ST</td>\n",
       "      <td>06/01/2021</td>\n",
       "      <td>7580178</td>\n",
       "      <td>2590917</td>\n",
       "      <td>05/31/2021</td>\n",
       "      <td>7579593.0</td>\n",
       "      <td>2590641.0</td>\n",
       "    </tr>\n",
       "    <tr>\n",
       "      <td>4</td>\n",
       "      <td>A002</td>\n",
       "      <td>R051</td>\n",
       "      <td>02-00-00</td>\n",
       "      <td>59 ST</td>\n",
       "      <td>06/02/2021</td>\n",
       "      <td>7580754</td>\n",
       "      <td>2591200</td>\n",
       "      <td>06/01/2021</td>\n",
       "      <td>7580178.0</td>\n",
       "      <td>2590917.0</td>\n",
       "    </tr>\n",
       "  </tbody>\n",
       "</table>\n",
       "</div>"
      ],
      "text/plain": [
       "    C/A  UNIT       SCP STATION        DATE  ENTRIES    EXITS   PREV_DATE  \\\n",
       "0  A002  R051  02-00-00   59 ST  05/29/2021  7579021  2590439         NaN   \n",
       "1  A002  R051  02-00-00   59 ST  05/30/2021  7579275  2590548  05/29/2021   \n",
       "2  A002  R051  02-00-00   59 ST  05/31/2021  7579593  2590641  05/30/2021   \n",
       "3  A002  R051  02-00-00   59 ST  06/01/2021  7580178  2590917  05/31/2021   \n",
       "4  A002  R051  02-00-00   59 ST  06/02/2021  7580754  2591200  06/01/2021   \n",
       "\n",
       "   PREV_ENTRIES  PREV_EXITS  \n",
       "0           NaN         NaN  \n",
       "1     7579021.0   2590439.0  \n",
       "2     7579275.0   2590548.0  \n",
       "3     7579593.0   2590641.0  \n",
       "4     7580178.0   2590917.0  "
      ]
     },
     "execution_count": 22,
     "metadata": {},
     "output_type": "execute_result"
    }
   ],
   "source": [
    "turnstiles_daily.head()"
   ]
  },
  {
   "cell_type": "code",
   "execution_count": 23,
   "metadata": {
    "colab": {},
    "colab_type": "code",
    "id": "jxS3lJ6nG36x"
   },
   "outputs": [],
   "source": [
    "# Drop the rows for the earliest date in the df\n",
    "turnstiles_daily.dropna(subset=[\"PREV_DATE\"], axis=0, inplace=True)"
   ]
  },
  {
   "cell_type": "markdown",
   "metadata": {
    "colab_type": "text",
    "id": "5IDEKSRgG361"
   },
   "source": [
    "#### Reverse Entries & Exits\n",
    "Need to investigate the reversed data and fix it."
   ]
  },
  {
   "cell_type": "code",
   "execution_count": 24,
   "metadata": {
    "colab": {},
    "colab_type": "code",
    "id": "Lv-VA714G362",
    "outputId": "d66e798b-4275-4dec-e6d0-48f9d155e5ce"
   },
   "outputs": [
    {
     "data": {
      "text/html": [
       "<div>\n",
       "<style scoped>\n",
       "    .dataframe tbody tr th:only-of-type {\n",
       "        vertical-align: middle;\n",
       "    }\n",
       "\n",
       "    .dataframe tbody tr th {\n",
       "        vertical-align: top;\n",
       "    }\n",
       "\n",
       "    .dataframe thead th {\n",
       "        text-align: right;\n",
       "    }\n",
       "</style>\n",
       "<table border=\"1\" class=\"dataframe\">\n",
       "  <thead>\n",
       "    <tr style=\"text-align: right;\">\n",
       "      <th></th>\n",
       "      <th>C/A</th>\n",
       "      <th>UNIT</th>\n",
       "      <th>SCP</th>\n",
       "      <th>STATION</th>\n",
       "      <th>DATE</th>\n",
       "      <th>ENTRIES</th>\n",
       "      <th>EXITS</th>\n",
       "      <th>PREV_DATE</th>\n",
       "      <th>PREV_ENTRIES</th>\n",
       "      <th>PREV_EXITS</th>\n",
       "    </tr>\n",
       "  </thead>\n",
       "  <tbody>\n",
       "    <tr>\n",
       "      <td>4369</td>\n",
       "      <td>A011</td>\n",
       "      <td>R080</td>\n",
       "      <td>01-03-00</td>\n",
       "      <td>57 ST-7 AV</td>\n",
       "      <td>05/30/2021</td>\n",
       "      <td>885601566</td>\n",
       "      <td>489576902</td>\n",
       "      <td>05/29/2021</td>\n",
       "      <td>885601748.0</td>\n",
       "      <td>489577552.0</td>\n",
       "    </tr>\n",
       "    <tr>\n",
       "      <td>4370</td>\n",
       "      <td>A011</td>\n",
       "      <td>R080</td>\n",
       "      <td>01-03-00</td>\n",
       "      <td>57 ST-7 AV</td>\n",
       "      <td>05/31/2021</td>\n",
       "      <td>885601403</td>\n",
       "      <td>489576371</td>\n",
       "      <td>05/30/2021</td>\n",
       "      <td>885601566.0</td>\n",
       "      <td>489576902.0</td>\n",
       "    </tr>\n",
       "    <tr>\n",
       "      <td>4371</td>\n",
       "      <td>A011</td>\n",
       "      <td>R080</td>\n",
       "      <td>01-03-00</td>\n",
       "      <td>57 ST-7 AV</td>\n",
       "      <td>06/01/2021</td>\n",
       "      <td>885601292</td>\n",
       "      <td>489575869</td>\n",
       "      <td>05/31/2021</td>\n",
       "      <td>885601403.0</td>\n",
       "      <td>489576371.0</td>\n",
       "    </tr>\n",
       "    <tr>\n",
       "      <td>4372</td>\n",
       "      <td>A011</td>\n",
       "      <td>R080</td>\n",
       "      <td>01-03-00</td>\n",
       "      <td>57 ST-7 AV</td>\n",
       "      <td>06/02/2021</td>\n",
       "      <td>885601049</td>\n",
       "      <td>489575017</td>\n",
       "      <td>06/01/2021</td>\n",
       "      <td>885601292.0</td>\n",
       "      <td>489575869.0</td>\n",
       "    </tr>\n",
       "    <tr>\n",
       "      <td>4373</td>\n",
       "      <td>A011</td>\n",
       "      <td>R080</td>\n",
       "      <td>01-03-00</td>\n",
       "      <td>57 ST-7 AV</td>\n",
       "      <td>06/03/2021</td>\n",
       "      <td>885600810</td>\n",
       "      <td>489574126</td>\n",
       "      <td>06/02/2021</td>\n",
       "      <td>885601049.0</td>\n",
       "      <td>489575017.0</td>\n",
       "    </tr>\n",
       "  </tbody>\n",
       "</table>\n",
       "</div>"
      ],
      "text/plain": [
       "       C/A  UNIT       SCP     STATION        DATE    ENTRIES      EXITS  \\\n",
       "4369  A011  R080  01-03-00  57 ST-7 AV  05/30/2021  885601566  489576902   \n",
       "4370  A011  R080  01-03-00  57 ST-7 AV  05/31/2021  885601403  489576371   \n",
       "4371  A011  R080  01-03-00  57 ST-7 AV  06/01/2021  885601292  489575869   \n",
       "4372  A011  R080  01-03-00  57 ST-7 AV  06/02/2021  885601049  489575017   \n",
       "4373  A011  R080  01-03-00  57 ST-7 AV  06/03/2021  885600810  489574126   \n",
       "\n",
       "       PREV_DATE  PREV_ENTRIES   PREV_EXITS  \n",
       "4369  05/29/2021   885601748.0  489577552.0  \n",
       "4370  05/30/2021   885601566.0  489576902.0  \n",
       "4371  05/31/2021   885601403.0  489576371.0  \n",
       "4372  06/01/2021   885601292.0  489575869.0  \n",
       "4373  06/02/2021   885601049.0  489575017.0  "
      ]
     },
     "execution_count": 24,
     "metadata": {},
     "output_type": "execute_result"
    }
   ],
   "source": [
    "turnstiles_daily[(turnstiles_daily[\"ENTRIES\"] < turnstiles_daily[\"PREV_ENTRIES\"])\n",
    "                | (turnstiles_daily[\"EXITS\"] < turnstiles_daily[\"PREV_EXITS\"])].head()"
   ]
  },
  {
   "cell_type": "code",
   "execution_count": 25,
   "metadata": {
    "colab": {},
    "colab_type": "code",
    "id": "hXcZXN01G37N",
    "outputId": "77e890e0-1fc7-4e04-b66b-1d88f0818da9"
   },
   "outputs": [],
   "source": [
    "#function to calculate the daily entries \n",
    "def get_daily_entries(row, max_entries):\n",
    "    num = abs(row[\"ENTRIES\"] - row[\"PREV_ENTRIES\"])\n",
    "    \n",
    "    #could be reset to a random number\n",
    "    if num > max_entries:\n",
    "        return 0\n",
    "    \n",
    "    return num"
   ]
  },
  {
   "cell_type": "code",
   "execution_count": 26,
   "metadata": {
    "colab": {},
    "colab_type": "code",
    "id": "hXcZXN01G37N",
    "outputId": "77e890e0-1fc7-4e04-b66b-1d88f0818da9"
   },
   "outputs": [],
   "source": [
    "turnstiles_daily[\"DAILY_ENTRIES\"] = turnstiles_daily.apply(get_daily_entries, axis=1, max_entries=100000)"
   ]
  },
  {
   "cell_type": "code",
   "execution_count": 27,
   "metadata": {
    "colab": {},
    "colab_type": "code",
    "id": "hXcZXN01G37N",
    "outputId": "77e890e0-1fc7-4e04-b66b-1d88f0818da9"
   },
   "outputs": [],
   "source": [
    "#function to calculate the daily entries \n",
    "def get_daily_exits(row, max_exits):\n",
    "    num = abs(row[\"EXITS\"] - row[\"PREV_EXITS\"])\n",
    "    \n",
    "    #could be reset to a random number\n",
    "    if num > max_exits:\n",
    "        return 0\n",
    "    \n",
    "    return num"
   ]
  },
  {
   "cell_type": "code",
   "execution_count": 28,
   "metadata": {
    "colab": {},
    "colab_type": "code",
    "id": "hXcZXN01G37N",
    "outputId": "77e890e0-1fc7-4e04-b66b-1d88f0818da9"
   },
   "outputs": [],
   "source": [
    "turnstiles_daily[\"DAILY_EXITS\"] = turnstiles_daily.apply(get_daily_exits, axis=1, max_exits=100000)"
   ]
  },
  {
   "cell_type": "code",
   "execution_count": 29,
   "metadata": {
    "colab": {},
    "colab_type": "code",
    "id": "nnL7k1dgG37Q",
    "outputId": "75df1787-bc82-48bd-befd-fd3c90836f1b"
   },
   "outputs": [
    {
     "data": {
      "text/html": [
       "<div>\n",
       "<style scoped>\n",
       "    .dataframe tbody tr th:only-of-type {\n",
       "        vertical-align: middle;\n",
       "    }\n",
       "\n",
       "    .dataframe tbody tr th {\n",
       "        vertical-align: top;\n",
       "    }\n",
       "\n",
       "    .dataframe thead th {\n",
       "        text-align: right;\n",
       "    }\n",
       "</style>\n",
       "<table border=\"1\" class=\"dataframe\">\n",
       "  <thead>\n",
       "    <tr style=\"text-align: right;\">\n",
       "      <th></th>\n",
       "      <th>C/A</th>\n",
       "      <th>UNIT</th>\n",
       "      <th>SCP</th>\n",
       "      <th>STATION</th>\n",
       "      <th>DATE</th>\n",
       "      <th>ENTRIES</th>\n",
       "      <th>EXITS</th>\n",
       "      <th>PREV_DATE</th>\n",
       "      <th>PREV_ENTRIES</th>\n",
       "      <th>PREV_EXITS</th>\n",
       "      <th>DAILY_ENTRIES</th>\n",
       "      <th>DAILY_EXITS</th>\n",
       "    </tr>\n",
       "  </thead>\n",
       "  <tbody>\n",
       "    <tr>\n",
       "      <td>1</td>\n",
       "      <td>A002</td>\n",
       "      <td>R051</td>\n",
       "      <td>02-00-00</td>\n",
       "      <td>59 ST</td>\n",
       "      <td>05/30/2021</td>\n",
       "      <td>7579275</td>\n",
       "      <td>2590548</td>\n",
       "      <td>05/29/2021</td>\n",
       "      <td>7579021.0</td>\n",
       "      <td>2590439.0</td>\n",
       "      <td>254.0</td>\n",
       "      <td>109.0</td>\n",
       "    </tr>\n",
       "    <tr>\n",
       "      <td>2</td>\n",
       "      <td>A002</td>\n",
       "      <td>R051</td>\n",
       "      <td>02-00-00</td>\n",
       "      <td>59 ST</td>\n",
       "      <td>05/31/2021</td>\n",
       "      <td>7579593</td>\n",
       "      <td>2590641</td>\n",
       "      <td>05/30/2021</td>\n",
       "      <td>7579275.0</td>\n",
       "      <td>2590548.0</td>\n",
       "      <td>318.0</td>\n",
       "      <td>93.0</td>\n",
       "    </tr>\n",
       "    <tr>\n",
       "      <td>3</td>\n",
       "      <td>A002</td>\n",
       "      <td>R051</td>\n",
       "      <td>02-00-00</td>\n",
       "      <td>59 ST</td>\n",
       "      <td>06/01/2021</td>\n",
       "      <td>7580178</td>\n",
       "      <td>2590917</td>\n",
       "      <td>05/31/2021</td>\n",
       "      <td>7579593.0</td>\n",
       "      <td>2590641.0</td>\n",
       "      <td>585.0</td>\n",
       "      <td>276.0</td>\n",
       "    </tr>\n",
       "    <tr>\n",
       "      <td>4</td>\n",
       "      <td>A002</td>\n",
       "      <td>R051</td>\n",
       "      <td>02-00-00</td>\n",
       "      <td>59 ST</td>\n",
       "      <td>06/02/2021</td>\n",
       "      <td>7580754</td>\n",
       "      <td>2591200</td>\n",
       "      <td>06/01/2021</td>\n",
       "      <td>7580178.0</td>\n",
       "      <td>2590917.0</td>\n",
       "      <td>576.0</td>\n",
       "      <td>283.0</td>\n",
       "    </tr>\n",
       "    <tr>\n",
       "      <td>5</td>\n",
       "      <td>A002</td>\n",
       "      <td>R051</td>\n",
       "      <td>02-00-00</td>\n",
       "      <td>59 ST</td>\n",
       "      <td>06/03/2021</td>\n",
       "      <td>7581328</td>\n",
       "      <td>2591445</td>\n",
       "      <td>06/02/2021</td>\n",
       "      <td>7580754.0</td>\n",
       "      <td>2591200.0</td>\n",
       "      <td>574.0</td>\n",
       "      <td>245.0</td>\n",
       "    </tr>\n",
       "  </tbody>\n",
       "</table>\n",
       "</div>"
      ],
      "text/plain": [
       "    C/A  UNIT       SCP STATION        DATE  ENTRIES    EXITS   PREV_DATE  \\\n",
       "1  A002  R051  02-00-00   59 ST  05/30/2021  7579275  2590548  05/29/2021   \n",
       "2  A002  R051  02-00-00   59 ST  05/31/2021  7579593  2590641  05/30/2021   \n",
       "3  A002  R051  02-00-00   59 ST  06/01/2021  7580178  2590917  05/31/2021   \n",
       "4  A002  R051  02-00-00   59 ST  06/02/2021  7580754  2591200  06/01/2021   \n",
       "5  A002  R051  02-00-00   59 ST  06/03/2021  7581328  2591445  06/02/2021   \n",
       "\n",
       "   PREV_ENTRIES  PREV_EXITS  DAILY_ENTRIES  DAILY_EXITS  \n",
       "1     7579021.0   2590439.0          254.0        109.0  \n",
       "2     7579275.0   2590548.0          318.0         93.0  \n",
       "3     7579593.0   2590641.0          585.0        276.0  \n",
       "4     7580178.0   2590917.0          576.0        283.0  \n",
       "5     7580754.0   2591200.0          574.0        245.0  "
      ]
     },
     "execution_count": 29,
     "metadata": {},
     "output_type": "execute_result"
    }
   ],
   "source": [
    "turnstiles_daily.head()"
   ]
  },
  {
   "cell_type": "markdown",
   "metadata": {},
   "source": [
    "<a id='eda'></a>\n",
    "# Exploratory Data Analysis"
   ]
  },
  {
   "cell_type": "markdown",
   "metadata": {},
   "source": [
    "### Daily Entries & Exits For Each Station"
   ]
  },
  {
   "cell_type": "code",
   "execution_count": 30,
   "metadata": {
    "scrolled": false
   },
   "outputs": [
    {
     "data": {
      "text/html": [
       "<div>\n",
       "<style scoped>\n",
       "    .dataframe tbody tr th:only-of-type {\n",
       "        vertical-align: middle;\n",
       "    }\n",
       "\n",
       "    .dataframe tbody tr th {\n",
       "        vertical-align: top;\n",
       "    }\n",
       "\n",
       "    .dataframe thead th {\n",
       "        text-align: right;\n",
       "    }\n",
       "</style>\n",
       "<table border=\"1\" class=\"dataframe\">\n",
       "  <thead>\n",
       "    <tr style=\"text-align: right;\">\n",
       "      <th></th>\n",
       "      <th>STATION</th>\n",
       "      <th>DATE</th>\n",
       "      <th>DAILY_ENTRIES</th>\n",
       "      <th>DAILY_EXITS</th>\n",
       "    </tr>\n",
       "  </thead>\n",
       "  <tbody>\n",
       "    <tr>\n",
       "      <td>0</td>\n",
       "      <td>1 AV</td>\n",
       "      <td>05/30/2021</td>\n",
       "      <td>4575.0</td>\n",
       "      <td>8830.0</td>\n",
       "    </tr>\n",
       "    <tr>\n",
       "      <td>1</td>\n",
       "      <td>1 AV</td>\n",
       "      <td>05/31/2021</td>\n",
       "      <td>4943.0</td>\n",
       "      <td>8936.0</td>\n",
       "    </tr>\n",
       "    <tr>\n",
       "      <td>2</td>\n",
       "      <td>1 AV</td>\n",
       "      <td>06/01/2021</td>\n",
       "      <td>7487.0</td>\n",
       "      <td>12730.0</td>\n",
       "    </tr>\n",
       "    <tr>\n",
       "      <td>3</td>\n",
       "      <td>1 AV</td>\n",
       "      <td>06/02/2021</td>\n",
       "      <td>7993.0</td>\n",
       "      <td>13067.0</td>\n",
       "    </tr>\n",
       "    <tr>\n",
       "      <td>4</td>\n",
       "      <td>1 AV</td>\n",
       "      <td>06/03/2021</td>\n",
       "      <td>7844.0</td>\n",
       "      <td>13031.0</td>\n",
       "    </tr>\n",
       "  </tbody>\n",
       "</table>\n",
       "</div>"
      ],
      "text/plain": [
       "  STATION        DATE  DAILY_ENTRIES  DAILY_EXITS\n",
       "0    1 AV  05/30/2021         4575.0       8830.0\n",
       "1    1 AV  05/31/2021         4943.0       8936.0\n",
       "2    1 AV  06/01/2021         7487.0      12730.0\n",
       "3    1 AV  06/02/2021         7993.0      13067.0\n",
       "4    1 AV  06/03/2021         7844.0      13031.0"
      ]
     },
     "execution_count": 30,
     "metadata": {},
     "output_type": "execute_result"
    }
   ],
   "source": [
    "station_daily = turnstiles_daily.groupby([\"STATION\", \"DATE\"], as_index = False)[['DAILY_ENTRIES','DAILY_EXITS']].sum()\n",
    "station_daily.head()"
   ]
  },
  {
   "cell_type": "code",
   "execution_count": 31,
   "metadata": {},
   "outputs": [],
   "source": [
    "#the total traffic in a station is the sum of entries and exits\n",
    "station_daily['TOTAL'] = station_daily.DAILY_ENTRIES + station_daily.DAILY_EXITS"
   ]
  },
  {
   "cell_type": "code",
   "execution_count": 32,
   "metadata": {},
   "outputs": [
    {
     "data": {
      "text/html": [
       "<div>\n",
       "<style scoped>\n",
       "    .dataframe tbody tr th:only-of-type {\n",
       "        vertical-align: middle;\n",
       "    }\n",
       "\n",
       "    .dataframe tbody tr th {\n",
       "        vertical-align: top;\n",
       "    }\n",
       "\n",
       "    .dataframe thead th {\n",
       "        text-align: right;\n",
       "    }\n",
       "</style>\n",
       "<table border=\"1\" class=\"dataframe\">\n",
       "  <thead>\n",
       "    <tr style=\"text-align: right;\">\n",
       "      <th></th>\n",
       "      <th>STATION</th>\n",
       "      <th>DATE</th>\n",
       "      <th>DAILY_ENTRIES</th>\n",
       "      <th>DAILY_EXITS</th>\n",
       "      <th>TOTAL</th>\n",
       "    </tr>\n",
       "  </thead>\n",
       "  <tbody>\n",
       "    <tr>\n",
       "      <td>0</td>\n",
       "      <td>1 AV</td>\n",
       "      <td>05/30/2021</td>\n",
       "      <td>4575.0</td>\n",
       "      <td>8830.0</td>\n",
       "      <td>13405.0</td>\n",
       "    </tr>\n",
       "    <tr>\n",
       "      <td>1</td>\n",
       "      <td>1 AV</td>\n",
       "      <td>05/31/2021</td>\n",
       "      <td>4943.0</td>\n",
       "      <td>8936.0</td>\n",
       "      <td>13879.0</td>\n",
       "    </tr>\n",
       "    <tr>\n",
       "      <td>2</td>\n",
       "      <td>1 AV</td>\n",
       "      <td>06/01/2021</td>\n",
       "      <td>7487.0</td>\n",
       "      <td>12730.0</td>\n",
       "      <td>20217.0</td>\n",
       "    </tr>\n",
       "    <tr>\n",
       "      <td>3</td>\n",
       "      <td>1 AV</td>\n",
       "      <td>06/02/2021</td>\n",
       "      <td>7993.0</td>\n",
       "      <td>13067.0</td>\n",
       "      <td>21060.0</td>\n",
       "    </tr>\n",
       "    <tr>\n",
       "      <td>4</td>\n",
       "      <td>1 AV</td>\n",
       "      <td>06/03/2021</td>\n",
       "      <td>7844.0</td>\n",
       "      <td>13031.0</td>\n",
       "      <td>20875.0</td>\n",
       "    </tr>\n",
       "    <tr>\n",
       "      <td>...</td>\n",
       "      <td>...</td>\n",
       "      <td>...</td>\n",
       "      <td>...</td>\n",
       "      <td>...</td>\n",
       "      <td>...</td>\n",
       "    </tr>\n",
       "    <tr>\n",
       "      <td>42031</td>\n",
       "      <td>ZEREGA AV</td>\n",
       "      <td>09/13/2021</td>\n",
       "      <td>1310.0</td>\n",
       "      <td>1726.0</td>\n",
       "      <td>3036.0</td>\n",
       "    </tr>\n",
       "    <tr>\n",
       "      <td>42032</td>\n",
       "      <td>ZEREGA AV</td>\n",
       "      <td>09/14/2021</td>\n",
       "      <td>1314.0</td>\n",
       "      <td>1779.0</td>\n",
       "      <td>3093.0</td>\n",
       "    </tr>\n",
       "    <tr>\n",
       "      <td>42033</td>\n",
       "      <td>ZEREGA AV</td>\n",
       "      <td>09/15/2021</td>\n",
       "      <td>1355.0</td>\n",
       "      <td>1699.0</td>\n",
       "      <td>3054.0</td>\n",
       "    </tr>\n",
       "    <tr>\n",
       "      <td>42034</td>\n",
       "      <td>ZEREGA AV</td>\n",
       "      <td>09/16/2021</td>\n",
       "      <td>1117.0</td>\n",
       "      <td>1345.0</td>\n",
       "      <td>2462.0</td>\n",
       "    </tr>\n",
       "    <tr>\n",
       "      <td>42035</td>\n",
       "      <td>ZEREGA AV</td>\n",
       "      <td>09/17/2021</td>\n",
       "      <td>1384.0</td>\n",
       "      <td>1752.0</td>\n",
       "      <td>3136.0</td>\n",
       "    </tr>\n",
       "  </tbody>\n",
       "</table>\n",
       "<p>42036 rows × 5 columns</p>\n",
       "</div>"
      ],
      "text/plain": [
       "         STATION        DATE  DAILY_ENTRIES  DAILY_EXITS    TOTAL\n",
       "0           1 AV  05/30/2021         4575.0       8830.0  13405.0\n",
       "1           1 AV  05/31/2021         4943.0       8936.0  13879.0\n",
       "2           1 AV  06/01/2021         7487.0      12730.0  20217.0\n",
       "3           1 AV  06/02/2021         7993.0      13067.0  21060.0\n",
       "4           1 AV  06/03/2021         7844.0      13031.0  20875.0\n",
       "...          ...         ...            ...          ...      ...\n",
       "42031  ZEREGA AV  09/13/2021         1310.0       1726.0   3036.0\n",
       "42032  ZEREGA AV  09/14/2021         1314.0       1779.0   3093.0\n",
       "42033  ZEREGA AV  09/15/2021         1355.0       1699.0   3054.0\n",
       "42034  ZEREGA AV  09/16/2021         1117.0       1345.0   2462.0\n",
       "42035  ZEREGA AV  09/17/2021         1384.0       1752.0   3136.0\n",
       "\n",
       "[42036 rows x 5 columns]"
      ]
     },
     "execution_count": 32,
     "metadata": {},
     "output_type": "execute_result"
    }
   ],
   "source": [
    "station_daily"
   ]
  },
  {
   "cell_type": "markdown",
   "metadata": {},
   "source": [
    "### Stations with the Highest Daily Entries"
   ]
  },
  {
   "cell_type": "code",
   "execution_count": 33,
   "metadata": {},
   "outputs": [
    {
     "data": {
      "text/plain": [
       "STATION\n",
       "34 ST-PENN STA     4893954.0\n",
       "34 ST-HERALD SQ    3760882.0\n",
       "GRD CNTRL-42 ST    3513460.0\n",
       "42 ST-PORT AUTH    3332572.0\n",
       "86 ST              3198710.0\n",
       "Name: DAILY_ENTRIES, dtype: float64"
      ]
     },
     "execution_count": 33,
     "metadata": {},
     "output_type": "execute_result"
    }
   ],
   "source": [
    "station_entries = station_daily.groupby('STATION')['DAILY_ENTRIES'].sum().sort_values(ascending=False)\n",
    "station_entries.head()"
   ]
  },
  {
   "cell_type": "markdown",
   "metadata": {},
   "source": [
    "#### Top 10 Stations with the Highest Daily Entries"
   ]
  },
  {
   "cell_type": "code",
   "execution_count": 34,
   "metadata": {
    "scrolled": false
   },
   "outputs": [
    {
     "data": {
      "image/png": "[encoded data removed]",
      "text/plain": [
       "<Figure size 1440x360 with 1 Axes>"
      ]
     },
     "metadata": {
      "needs_background": "light"
     },
     "output_type": "display_data"
    }
   ],
   "source": [
    "plt.figure(figsize=(20,5))\n",
    "plt.bar(x=station_entries.index[:10], height=station_entries[:10], color='pink')\n",
    "plt.xlabel('Stations', fontsize=15)\n",
    "plt.ylabel('Number of turnstile entries', fontsize=15)\n",
    "plt.title('Top 10 Stations with the Highest Daily Entries', fontsize=20);"
   ]
  },
  {
   "cell_type": "markdown",
   "metadata": {},
   "source": [
    "### Stations with the Highest Daily Exits"
   ]
  },
  {
   "cell_type": "code",
   "execution_count": 35,
   "metadata": {},
   "outputs": [
    {
     "data": {
      "text/plain": [
       "STATION\n",
       "34 ST-PENN STA     6554273.0\n",
       "GRD CNTRL-42 ST    5084956.0\n",
       "34 ST-HERALD SQ    5030650.0\n",
       "14 ST-UNION SQ     4414206.0\n",
       "86 ST              4411253.0\n",
       "Name: DAILY_EXITS, dtype: float64"
      ]
     },
     "execution_count": 35,
     "metadata": {},
     "output_type": "execute_result"
    }
   ],
   "source": [
    "station_exits = station_daily.groupby('STATION')['DAILY_EXITS'].sum().sort_values(ascending=False)\n",
    "station_exits.head()"
   ]
  },
  {
   "cell_type": "markdown",
   "metadata": {},
   "source": [
    "#### Top 10 Stations with the Highest Daily Exits"
   ]
  },
  {
   "cell_type": "code",
   "execution_count": 36,
   "metadata": {},
   "outputs": [
    {
     "data": {
      "image/png": "[encoded data removed]",
      "text/plain": [
       "<Figure size 1440x360 with 1 Axes>"
      ]
     },
     "metadata": {
      "needs_background": "light"
     },
     "output_type": "display_data"
    }
   ],
   "source": [
    "plt.figure(figsize=(20,5))\n",
    "plt.bar(x=station_exits.index[:10], height=station_exits[:10], color='pink')\n",
    "plt.xlabel('Stations', fontsize=15)\n",
    "plt.ylabel('Number of turnstile exits', fontsize=15)\n",
    "plt.title('Top 10 Stations with the Highest Daily Exits', fontsize=20);"
   ]
  },
  {
   "cell_type": "markdown",
   "metadata": {},
   "source": [
    "### Stations with the Highest Daily Traffic"
   ]
  },
  {
   "cell_type": "code",
   "execution_count": 37,
   "metadata": {
    "scrolled": true
   },
   "outputs": [
    {
     "data": {
      "text/plain": [
       "STATION\n",
       "34 ST-PENN STA     11448227.0\n",
       "34 ST-HERALD SQ     8791532.0\n",
       "GRD CNTRL-42 ST     8598416.0\n",
       "86 ST               7609963.0\n",
       "14 ST-UNION SQ      7459864.0\n",
       "Name: TOTAL, dtype: float64"
      ]
     },
     "execution_count": 37,
     "metadata": {},
     "output_type": "execute_result"
    }
   ],
   "source": [
    "station_totals = station_daily.groupby('STATION')['TOTAL'].sum().sort_values(ascending=False)\n",
    "station_totals.head()"
   ]
  },
  {
   "cell_type": "markdown",
   "metadata": {},
   "source": [
    "#### Top 10 Stations with the Highest Daily Traffic"
   ]
  },
  {
   "cell_type": "code",
   "execution_count": 38,
   "metadata": {},
   "outputs": [
    {
     "data": {
      "image/png": "[encoded data removed]",
      "text/plain": [
       "<Figure size 1440x360 with 1 Axes>"
      ]
     },
     "metadata": {
      "needs_background": "light"
     },
     "output_type": "display_data"
    }
   ],
   "source": [
    "plt.figure(figsize=(20,5))\n",
    "plt.bar(x=station_totals.index[:10], height=station_totals[:10], color='pink')\n",
    "plt.xlabel('Stations', fontsize=15)\n",
    "plt.ylabel('Number of turnstile entries and exits', fontsize=15)\n",
    "plt.title('Top 10 Stations with the Highest Daily Traffic', fontsize=20);"
   ]
  },
  {
   "cell_type": "markdown",
   "metadata": {},
   "source": [
    "### Top Stations Comparison"
   ]
  },
  {
   "cell_type": "code",
   "execution_count": 43,
   "metadata": {
    "scrolled": false
   },
   "outputs": [
    {
     "data": {
      "text/html": [
       "<div>\n",
       "<style scoped>\n",
       "    .dataframe tbody tr th:only-of-type {\n",
       "        vertical-align: middle;\n",
       "    }\n",
       "\n",
       "    .dataframe tbody tr th {\n",
       "        vertical-align: top;\n",
       "    }\n",
       "\n",
       "    .dataframe thead th {\n",
       "        text-align: right;\n",
       "    }\n",
       "</style>\n",
       "<table border=\"1\" class=\"dataframe\">\n",
       "  <thead>\n",
       "    <tr style=\"text-align: right;\">\n",
       "      <th></th>\n",
       "      <th>STATION</th>\n",
       "      <th>DAILY_ENTRIES</th>\n",
       "      <th>DAILY_EXITS</th>\n",
       "      <th>TOTAL</th>\n",
       "    </tr>\n",
       "  </thead>\n",
       "  <tbody>\n",
       "    <tr>\n",
       "      <td>61</td>\n",
       "      <td>34 ST-PENN STA</td>\n",
       "      <td>4893954.0</td>\n",
       "      <td>6554273.0</td>\n",
       "      <td>11448227.0</td>\n",
       "    </tr>\n",
       "    <tr>\n",
       "      <td>59</td>\n",
       "      <td>34 ST-HERALD SQ</td>\n",
       "      <td>3760882.0</td>\n",
       "      <td>5030650.0</td>\n",
       "      <td>8791532.0</td>\n",
       "    </tr>\n",
       "    <tr>\n",
       "      <td>233</td>\n",
       "      <td>GRD CNTRL-42 ST</td>\n",
       "      <td>3513460.0</td>\n",
       "      <td>5084956.0</td>\n",
       "      <td>8598416.0</td>\n",
       "    </tr>\n",
       "    <tr>\n",
       "      <td>110</td>\n",
       "      <td>86 ST</td>\n",
       "      <td>3198710.0</td>\n",
       "      <td>4411253.0</td>\n",
       "      <td>7609963.0</td>\n",
       "    </tr>\n",
       "    <tr>\n",
       "      <td>14</td>\n",
       "      <td>14 ST-UNION SQ</td>\n",
       "      <td>3045658.0</td>\n",
       "      <td>4414206.0</td>\n",
       "      <td>7459864.0</td>\n",
       "    </tr>\n",
       "    <tr>\n",
       "      <td>...</td>\n",
       "      <td>...</td>\n",
       "      <td>...</td>\n",
       "      <td>...</td>\n",
       "      <td>...</td>\n",
       "    </tr>\n",
       "    <tr>\n",
       "      <td>148</td>\n",
       "      <td>BEACH 98 ST</td>\n",
       "      <td>23608.0</td>\n",
       "      <td>36772.0</td>\n",
       "      <td>60380.0</td>\n",
       "    </tr>\n",
       "    <tr>\n",
       "      <td>141</td>\n",
       "      <td>BEACH 105 ST</td>\n",
       "      <td>15757.0</td>\n",
       "      <td>26237.0</td>\n",
       "      <td>41994.0</td>\n",
       "    </tr>\n",
       "    <tr>\n",
       "      <td>354</td>\n",
       "      <td>TOMPKINSVILLE</td>\n",
       "      <td>31864.0</td>\n",
       "      <td>2.0</td>\n",
       "      <td>31866.0</td>\n",
       "    </tr>\n",
       "    <tr>\n",
       "      <td>162</td>\n",
       "      <td>BROAD CHANNEL</td>\n",
       "      <td>12793.0</td>\n",
       "      <td>7861.0</td>\n",
       "      <td>20654.0</td>\n",
       "    </tr>\n",
       "    <tr>\n",
       "      <td>309</td>\n",
       "      <td>ORCHARD BEACH</td>\n",
       "      <td>595.0</td>\n",
       "      <td>484.0</td>\n",
       "      <td>1079.0</td>\n",
       "    </tr>\n",
       "  </tbody>\n",
       "</table>\n",
       "<p>379 rows × 4 columns</p>\n",
       "</div>"
      ],
      "text/plain": [
       "             STATION  DAILY_ENTRIES  DAILY_EXITS       TOTAL\n",
       "61    34 ST-PENN STA      4893954.0    6554273.0  11448227.0\n",
       "59   34 ST-HERALD SQ      3760882.0    5030650.0   8791532.0\n",
       "233  GRD CNTRL-42 ST      3513460.0    5084956.0   8598416.0\n",
       "110            86 ST      3198710.0    4411253.0   7609963.0\n",
       "14    14 ST-UNION SQ      3045658.0    4414206.0   7459864.0\n",
       "..               ...            ...          ...         ...\n",
       "148      BEACH 98 ST        23608.0      36772.0     60380.0\n",
       "141     BEACH 105 ST        15757.0      26237.0     41994.0\n",
       "354    TOMPKINSVILLE        31864.0          2.0     31866.0\n",
       "162    BROAD CHANNEL        12793.0       7861.0     20654.0\n",
       "309    ORCHARD BEACH          595.0        484.0      1079.0\n",
       "\n",
       "[379 rows x 4 columns]"
      ]
     },
     "execution_count": 43,
     "metadata": {},
     "output_type": "execute_result"
    }
   ],
   "source": [
    "stations_all = station_daily.groupby('STATION',as_index = False).sum().sort_values('TOTAL',ascending=False)\n",
    "stations_all"
   ]
  },
  {
   "cell_type": "markdown",
   "metadata": {},
   "source": [
    "#### Top 10 Total VS Entries VS Exits per Station"
   ]
  },
  {
   "cell_type": "code",
   "execution_count": 44,
   "metadata": {
    "scrolled": true
   },
   "outputs": [
    {
     "data": {
      "image/png": "[encoded data removed]",
      "text/plain": [
       "<Figure size 1440x360 with 1 Axes>"
      ]
     },
     "metadata": {
      "needs_background": "light"
     },
     "output_type": "display_data"
    }
   ],
   "source": [
    "ind = np.arange(10) \n",
    "width = 0.25\n",
    "plt.figure(figsize=(20,5)) \n",
    " \n",
    "bar1 = plt.bar(ind, stations_all.TOTAL[:10], width, color = 'orange')\n",
    "bar2 = plt.bar(ind+width, stations_all.DAILY_ENTRIES[:10], width)\n",
    "bar3 = plt.bar(ind+width*2, stations_all.DAILY_EXITS[:10], width, color='pink')\n",
    "  \n",
    "plt.xlabel(\"Stations\")\n",
    "plt.ylabel('Number of People')\n",
    "plt.title(\"Total VS Entries VS Exits per Station\")\n",
    "\n",
    "plt.xticks(ind+width,stations_all.STATION[:10])\n",
    "plt.legend((bar1, bar2, bar3),('Total', 'Entries', 'Exits'))\n",
    "plt.show();"
   ]
  },
  {
   "cell_type": "markdown",
   "metadata": {},
   "source": [
    "### Unique Turnstile Per Station"
   ]
  },
  {
   "cell_type": "code",
   "execution_count": 39,
   "metadata": {},
   "outputs": [],
   "source": [
    "turnstiles_per_station = turnstiles_df.groupby(['STATION'])[\"UNIQUE_TURNSTILE\"].nunique()"
   ]
  },
  {
   "cell_type": "code",
   "execution_count": 40,
   "metadata": {},
   "outputs": [],
   "source": [
    "turnstiles_per_station.sort_values(ascending=False, inplace=True)"
   ]
  },
  {
   "cell_type": "code",
   "execution_count": 41,
   "metadata": {},
   "outputs": [
    {
     "data": {
      "text/plain": [
       "STATION\n",
       "34 ST-PENN STA     102\n",
       "FULTON ST           96\n",
       "GRD CNTRL-42 ST     94\n",
       "23 ST               73\n",
       "86 ST               65\n",
       "                  ... \n",
       "HARLEM 148 ST        3\n",
       "190 ST               3\n",
       "ATLANTIC AV          3\n",
       "CLEVELAND ST         2\n",
       "SUTTER AV            2\n",
       "Name: UNIQUE_TURNSTILE, Length: 379, dtype: int64"
      ]
     },
     "execution_count": 41,
     "metadata": {},
     "output_type": "execute_result"
    }
   ],
   "source": [
    "turnstiles_per_station"
   ]
  },
  {
   "cell_type": "markdown",
   "metadata": {},
   "source": [
    "#### Top 10 Total Unique Turnstile Per Station"
   ]
  },
  {
   "cell_type": "code",
   "execution_count": 42,
   "metadata": {
    "scrolled": true
   },
   "outputs": [
    {
     "data": {
      "image/png": "[encoded data removed]",
      "text/plain": [
       "<Figure size 1440x360 with 1 Axes>"
      ]
     },
     "metadata": {
      "needs_background": "light"
     },
     "output_type": "display_data"
    }
   ],
   "source": [
    "plt.figure(figsize=(20,5))\n",
    "plt.bar(x=turnstiles_per_station.index[:10], height=turnstiles_per_station[:10], color='pink');\n",
    "plt.xlabel('Stations', fontsize=15)\n",
    "plt.ylabel('Number of unique turnstiles', fontsize=15)\n",
    "plt.title('Top 10 Total Unique Turnstile Per Station', fontsize=20);"
   ]
  },
  {
   "cell_type": "markdown",
   "metadata": {},
   "source": [
    "<a id='conclusions'></a>\n",
    "# Conclusions"
   ]
  },
  {
   "cell_type": "code",
   "execution_count": 45,
   "metadata": {},
   "outputs": [],
   "source": [
    "#can be multiple conclusions\n",
    "#to be continued..."
   ]
  }
 ],
 "metadata": {
  "kernelspec": {
   "display_name": "Python 3",
   "language": "python",
   "name": "python3"
  },
  "language_info": {
   "codemirror_mode": {
    "name": "ipython",
    "version": 3
   },
   "file_extension": ".py",
   "mimetype": "text/x-python",
   "name": "python",
   "nbconvert_exporter": "python",
   "pygments_lexer": "ipython3",
   "version": "3.7.4"
  },
  "toc": {
   "base_numbering": 1,
   "nav_menu": {},
   "number_sections": false,
   "sideBar": true,
   "skip_h1_title": false,
   "title_cell": "Table of Contents",
   "title_sidebar": "Contents",
   "toc_cell": false,
   "toc_position": {
    "height": "calc(100% - 180px)",
    "left": "10px",
    "top": "150px",
    "width": "288px"
   },
   "toc_section_display": true,
   "toc_window_display": true
  }
 },
 "nbformat": 4,
 "nbformat_minor": 4
}
